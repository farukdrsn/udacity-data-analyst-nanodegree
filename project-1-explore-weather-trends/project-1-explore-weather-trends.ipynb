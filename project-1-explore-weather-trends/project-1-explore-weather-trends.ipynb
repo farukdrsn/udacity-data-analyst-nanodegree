{
 "cells": [
  {
   "cell_type": "markdown",
   "metadata": {},
   "source": [
    "## Data Analysis Nanodegree Program - Project 1 (Exploring Weather Trends)"
   ]
  },
  {
   "cell_type": "markdown",
   "metadata": {},
   "source": [
    "### Import all our dependencies"
   ]
  },
  {
   "cell_type": "code",
   "execution_count": 62,
   "metadata": {},
   "outputs": [],
   "source": [
    "import pandas as pd\n",
    "import matplotlib.pyplot as plt"
   ]
  },
  {
   "cell_type": "markdown",
   "metadata": {},
   "source": [
    "### Load the CSV's"
   ]
  },
  {
   "cell_type": "code",
   "execution_count": 63,
   "metadata": {},
   "outputs": [
    {
     "data": {
      "text/html": [
       "<div>\n",
       "<style scoped>\n",
       "    .dataframe tbody tr th:only-of-type {\n",
       "        vertical-align: middle;\n",
       "    }\n",
       "\n",
       "    .dataframe tbody tr th {\n",
       "        vertical-align: top;\n",
       "    }\n",
       "\n",
       "    .dataframe thead th {\n",
       "        text-align: right;\n",
       "    }\n",
       "</style>\n",
       "<table border=\"1\" class=\"dataframe\">\n",
       "  <thead>\n",
       "    <tr style=\"text-align: right;\">\n",
       "      <th></th>\n",
       "      <th>year</th>\n",
       "      <th>avg_temp</th>\n",
       "    </tr>\n",
       "  </thead>\n",
       "  <tbody>\n",
       "    <tr>\n",
       "      <th>0</th>\n",
       "      <td>1750</td>\n",
       "      <td>8.72</td>\n",
       "    </tr>\n",
       "    <tr>\n",
       "      <th>1</th>\n",
       "      <td>1751</td>\n",
       "      <td>7.98</td>\n",
       "    </tr>\n",
       "    <tr>\n",
       "      <th>2</th>\n",
       "      <td>1752</td>\n",
       "      <td>5.78</td>\n",
       "    </tr>\n",
       "    <tr>\n",
       "      <th>3</th>\n",
       "      <td>1753</td>\n",
       "      <td>8.39</td>\n",
       "    </tr>\n",
       "    <tr>\n",
       "      <th>4</th>\n",
       "      <td>1754</td>\n",
       "      <td>8.47</td>\n",
       "    </tr>\n",
       "  </tbody>\n",
       "</table>\n",
       "</div>"
      ],
      "text/plain": [
       "   year  avg_temp\n",
       "0  1750      8.72\n",
       "1  1751      7.98\n",
       "2  1752      5.78\n",
       "3  1753      8.39\n",
       "4  1754      8.47"
      ]
     },
     "execution_count": 63,
     "metadata": {},
     "output_type": "execute_result"
    }
   ],
   "source": [
    "global_data_frame = pd.read_csv(\"global_data.csv\").sort_values(\"year\")\n",
    "global_data_frame.head()"
   ]
  },
  {
   "cell_type": "code",
   "execution_count": 64,
   "metadata": {
    "scrolled": true
   },
   "outputs": [
    {
     "data": {
      "text/html": [
       "<div>\n",
       "<style scoped>\n",
       "    .dataframe tbody tr th:only-of-type {\n",
       "        vertical-align: middle;\n",
       "    }\n",
       "\n",
       "    .dataframe tbody tr th {\n",
       "        vertical-align: top;\n",
       "    }\n",
       "\n",
       "    .dataframe thead th {\n",
       "        text-align: right;\n",
       "    }\n",
       "</style>\n",
       "<table border=\"1\" class=\"dataframe\">\n",
       "  <thead>\n",
       "    <tr style=\"text-align: right;\">\n",
       "      <th></th>\n",
       "      <th>city</th>\n",
       "      <th>country</th>\n",
       "      <th>year</th>\n",
       "      <th>avg_temp</th>\n",
       "    </tr>\n",
       "  </thead>\n",
       "  <tbody>\n",
       "    <tr>\n",
       "      <th>0</th>\n",
       "      <td>Abidjan</td>\n",
       "      <td>Côte D'Ivoire</td>\n",
       "      <td>1849</td>\n",
       "      <td>25.58</td>\n",
       "    </tr>\n",
       "    <tr>\n",
       "      <th>1</th>\n",
       "      <td>Abidjan</td>\n",
       "      <td>Côte D'Ivoire</td>\n",
       "      <td>1850</td>\n",
       "      <td>25.52</td>\n",
       "    </tr>\n",
       "    <tr>\n",
       "      <th>2</th>\n",
       "      <td>Abidjan</td>\n",
       "      <td>Côte D'Ivoire</td>\n",
       "      <td>1851</td>\n",
       "      <td>25.67</td>\n",
       "    </tr>\n",
       "    <tr>\n",
       "      <th>3</th>\n",
       "      <td>Abidjan</td>\n",
       "      <td>Côte D'Ivoire</td>\n",
       "      <td>1852</td>\n",
       "      <td>NaN</td>\n",
       "    </tr>\n",
       "    <tr>\n",
       "      <th>4</th>\n",
       "      <td>Abidjan</td>\n",
       "      <td>Côte D'Ivoire</td>\n",
       "      <td>1853</td>\n",
       "      <td>NaN</td>\n",
       "    </tr>\n",
       "  </tbody>\n",
       "</table>\n",
       "</div>"
      ],
      "text/plain": [
       "      city        country  year  avg_temp\n",
       "0  Abidjan  Côte D'Ivoire  1849     25.58\n",
       "1  Abidjan  Côte D'Ivoire  1850     25.52\n",
       "2  Abidjan  Côte D'Ivoire  1851     25.67\n",
       "3  Abidjan  Côte D'Ivoire  1852       NaN\n",
       "4  Abidjan  Côte D'Ivoire  1853       NaN"
      ]
     },
     "execution_count": 64,
     "metadata": {},
     "output_type": "execute_result"
    }
   ],
   "source": [
    "cities_data_frame = pd.read_csv(\"cities.csv\", usecols=[\"city\", \"country\", \"year\", \"avg_temp\"])\n",
    "cities_data_frame.head()"
   ]
  },
  {
   "cell_type": "markdown",
   "metadata": {},
   "source": [
    "### Discover the cities from my country\n",
    "\n",
    "In this case it's the **Curitiba** city."
   ]
  },
  {
   "cell_type": "code",
   "execution_count": 65,
   "metadata": {
    "scrolled": true
   },
   "outputs": [
    {
     "name": "stdout",
     "output_type": "stream",
     "text": [
      "['Belo Horizonte' 'Campinas' 'Colombo' 'Curitiba' 'Fortaleza' 'Guarulhos'\n",
      " 'Manaus' 'Porto Alegre' 'Recife' 'Rio De Janeiro' 'Salvador']\n"
     ]
    },
    {
     "data": {
      "text/html": [
       "<div>\n",
       "<style scoped>\n",
       "    .dataframe tbody tr th:only-of-type {\n",
       "        vertical-align: middle;\n",
       "    }\n",
       "\n",
       "    .dataframe tbody tr th {\n",
       "        vertical-align: top;\n",
       "    }\n",
       "\n",
       "    .dataframe thead th {\n",
       "        text-align: right;\n",
       "    }\n",
       "</style>\n",
       "<table border=\"1\" class=\"dataframe\">\n",
       "  <thead>\n",
       "    <tr style=\"text-align: right;\">\n",
       "      <th></th>\n",
       "      <th>city</th>\n",
       "      <th>country</th>\n",
       "      <th>year</th>\n",
       "      <th>avg_temp</th>\n",
       "    </tr>\n",
       "  </thead>\n",
       "  <tbody>\n",
       "    <tr>\n",
       "      <th>19051</th>\n",
       "      <td>Curitiba</td>\n",
       "      <td>Brazil</td>\n",
       "      <td>1832</td>\n",
       "      <td>16.60</td>\n",
       "    </tr>\n",
       "    <tr>\n",
       "      <th>19052</th>\n",
       "      <td>Curitiba</td>\n",
       "      <td>Brazil</td>\n",
       "      <td>1833</td>\n",
       "      <td>17.48</td>\n",
       "    </tr>\n",
       "    <tr>\n",
       "      <th>19053</th>\n",
       "      <td>Curitiba</td>\n",
       "      <td>Brazil</td>\n",
       "      <td>1834</td>\n",
       "      <td>16.95</td>\n",
       "    </tr>\n",
       "    <tr>\n",
       "      <th>19054</th>\n",
       "      <td>Curitiba</td>\n",
       "      <td>Brazil</td>\n",
       "      <td>1835</td>\n",
       "      <td>16.28</td>\n",
       "    </tr>\n",
       "    <tr>\n",
       "      <th>19055</th>\n",
       "      <td>Curitiba</td>\n",
       "      <td>Brazil</td>\n",
       "      <td>1836</td>\n",
       "      <td>16.56</td>\n",
       "    </tr>\n",
       "  </tbody>\n",
       "</table>\n",
       "</div>"
      ],
      "text/plain": [
       "           city country  year  avg_temp\n",
       "19051  Curitiba  Brazil  1832     16.60\n",
       "19052  Curitiba  Brazil  1833     17.48\n",
       "19053  Curitiba  Brazil  1834     16.95\n",
       "19054  Curitiba  Brazil  1835     16.28\n",
       "19055  Curitiba  Brazil  1836     16.56"
      ]
     },
     "execution_count": 65,
     "metadata": {},
     "output_type": "execute_result"
    }
   ],
   "source": [
    "print(cities_data_frame[cities_data_frame[\"country\"].str.contains(\"Brazil\")].city.unique())\n",
    "\n",
    "curitiba_data_frame = cities_data_frame[cities_data_frame[\"city\"].str.contains(\"Curitiba\")].sort_values(\"year\")\n",
    "curitiba_data_frame.head()"
   ]
  },
  {
   "cell_type": "markdown",
   "metadata": {},
   "source": [
    "### Clean city data\n",
    "\n",
    "Here we have 7 records with null data, we could drop them, or just fill them with the median of the city historic temperatures"
   ]
  },
  {
   "cell_type": "code",
   "execution_count": 66,
   "metadata": {
    "scrolled": true
   },
   "outputs": [
    {
     "data": {
      "text/plain": [
       "7"
      ]
     },
     "execution_count": 66,
     "metadata": {},
     "output_type": "execute_result"
    }
   ],
   "source": [
    "curitiba_data_frame[\"avg_temp\"].isnull().sum()"
   ]
  },
  {
   "cell_type": "code",
   "execution_count": 67,
   "metadata": {},
   "outputs": [],
   "source": [
    "median = curitiba_data_frame[\"avg_temp\"].median()\n",
    "curitiba_data_frame[\"avg_temp\"].fillna(median, inplace=True)"
   ]
  },
  {
   "cell_type": "code",
   "execution_count": 68,
   "metadata": {},
   "outputs": [
    {
     "data": {
      "text/plain": [
       "0"
      ]
     },
     "execution_count": 68,
     "metadata": {},
     "output_type": "execute_result"
    }
   ],
   "source": [
    "curitiba_data_frame[\"avg_temp\"].isnull().sum()"
   ]
  },
  {
   "cell_type": "markdown",
   "metadata": {},
   "source": [
    "### \"Moving Average\" for the global data and local data\n",
    "\n",
    "I'm using a 7 day mobing average from the recommendation."
   ]
  },
  {
   "cell_type": "code",
   "execution_count": 69,
   "metadata": {},
   "outputs": [
    {
     "name": "stdout",
     "output_type": "stream",
     "text": [
      "0         NaN\n",
      "1         NaN\n",
      "2         NaN\n",
      "3         NaN\n",
      "4         NaN\n",
      "5         NaN\n",
      "6    8.078571\n",
      "Name: avg_temp, dtype: float64\n",
      "\n",
      "just checking\n",
      "\n",
      "0    8.72\n",
      "1    7.98\n",
      "2    5.78\n",
      "3    8.39\n",
      "4    8.47\n",
      "5    8.36\n",
      "6    8.85\n",
      "Name: avg_temp, dtype: float64\n",
      "8.07857142857143\n"
     ]
    }
   ],
   "source": [
    "global_moving_average = global_data_frame[\"avg_temp\"].rolling(7).mean()\n",
    "\n",
    "print(global_moving_average.head(7))\n",
    "print(\"\\njust checking\\n\")\n",
    "print(global_data_frame[\"avg_temp\"].head(7))\n",
    "print(global_data_frame[\"avg_temp\"].head(7).sum() / 7)"
   ]
  },
  {
   "cell_type": "code",
   "execution_count": 70,
   "metadata": {},
   "outputs": [
    {
     "name": "stdout",
     "output_type": "stream",
     "text": [
      "19051          NaN\n",
      "19052          NaN\n",
      "19053          NaN\n",
      "19054          NaN\n",
      "19055          NaN\n",
      "19056          NaN\n",
      "19057    16.624286\n",
      "Name: avg_temp, dtype: float64\n",
      "\n",
      "just checking\n",
      "\n",
      "19051    16.60\n",
      "19052    17.48\n",
      "19053    16.95\n",
      "19054    16.28\n",
      "19055    16.56\n",
      "19056    16.08\n",
      "19057    16.42\n",
      "Name: avg_temp, dtype: float64\n",
      "16.624285714285715\n"
     ]
    }
   ],
   "source": [
    "curitiba_moving_average = curitiba_data_frame[\"avg_temp\"].rolling(7).mean()\n",
    "\n",
    "print(curitiba_moving_average.head(7))\n",
    "print(\"\\njust checking\\n\")\n",
    "print(curitiba_data_frame[\"avg_temp\"].head(7))\n",
    "print(curitiba_data_frame[\"avg_temp\"].head(7).sum() / 7)"
   ]
  },
  {
   "cell_type": "markdown",
   "metadata": {},
   "source": [
    "### Comparing my city temperature"
   ]
  },
  {
   "cell_type": "markdown",
   "metadata": {},
   "source": [
    "#### min and max averages"
   ]
  },
  {
   "cell_type": "code",
   "execution_count": 71,
   "metadata": {},
   "outputs": [
    {
     "name": "stdout",
     "output_type": "stream",
     "text": [
      "16.44142857142857\n",
      "18.508571428571425\n"
     ]
    }
   ],
   "source": [
    "print(curitiba_moving_average.min())\n",
    "print(curitiba_moving_average.max())"
   ]
  },
  {
   "cell_type": "code",
   "execution_count": 72,
   "metadata": {},
   "outputs": [
    {
     "name": "stdout",
     "output_type": "stream",
     "text": [
      "7.191428571428574\n",
      "9.607142857142852\n"
     ]
    }
   ],
   "source": [
    "print(global_moving_average.min())\n",
    "print(global_moving_average.max())"
   ]
  },
  {
   "cell_type": "markdown",
   "metadata": {},
   "source": [
    "#### how does temperature change from the beggining til now"
   ]
  },
  {
   "cell_type": "code",
   "execution_count": 73,
   "metadata": {},
   "outputs": [
    {
     "name": "stdout",
     "output_type": "stream",
     "text": [
      "In 2013 we have 17.57 average temperature\n",
      "In 1832 we have 16.6 average temperature\n"
     ]
    },
    {
     "data": {
      "text/plain": [
       "0.9699999999999989"
      ]
     },
     "execution_count": 73,
     "metadata": {},
     "output_type": "execute_result"
    }
   ],
   "source": [
    "print(\"In %s we have %s average temperature\" % (curitiba_data_frame.iloc[-1].year, curitiba_data_frame.iloc[-1].avg_temp))\n",
    "print(\"In %s we have %s average temperature\" % (curitiba_data_frame.iloc[0].year, curitiba_data_frame.iloc[0].avg_temp))\n",
    "curitiba_data_frame.iloc[-1].avg_temp - curitiba_data_frame.iloc[0].avg_temp"
   ]
  },
  {
   "cell_type": "code",
   "execution_count": 74,
   "metadata": {},
   "outputs": [
    {
     "name": "stdout",
     "output_type": "stream",
     "text": [
      "In 2015.0 we have 9.83 average temperature\n",
      "In 1750.0 we have 8.72 average temperature\n"
     ]
    },
    {
     "data": {
      "text/plain": [
       "1.1099999999999994"
      ]
     },
     "execution_count": 74,
     "metadata": {},
     "output_type": "execute_result"
    }
   ],
   "source": [
    "print(\"In %s we have %s average temperature\" % (global_data_frame.iloc[-1].year, global_data_frame.iloc[-1].avg_temp))\n",
    "print(\"In %s we have %s average temperature\" % (global_data_frame.iloc[0].year, global_data_frame.iloc[0].avg_temp))\n",
    "global_data_frame.iloc[-1].avg_temp - global_data_frame.iloc[0].avg_temp"
   ]
  },
  {
   "cell_type": "markdown",
   "metadata": {},
   "source": [
    "#### plots"
   ]
  },
  {
   "cell_type": "code",
   "execution_count": 75,
   "metadata": {},
   "outputs": [
    {
     "data": {
      "image/png": "[encoded data removed]",
      "text/plain": [
       "<Figure size 432x288 with 1 Axes>"
      ]
     },
     "metadata": {
      "needs_background": "light"
     },
     "output_type": "display_data"
    }
   ],
   "source": [
    "plt.plot(global_data_frame[\"year\"], global_moving_average, label=\"global\")\n",
    "plt.plot(curitiba_data_frame[\"year\"], curitiba_moving_average, label=\"curitiba\")\n",
    "\n",
    "plt.xlabel(\"years\")\n",
    "plt.ylabel(\"temperature (°C)\")\n",
    "\n",
    "plt.title(\"curitiba's x global trend temperatures\")\n",
    "\n",
    "plt.legend()\n",
    "\n",
    "plt.show()"
   ]
  },
  {
   "cell_type": "markdown",
   "metadata": {},
   "source": [
    "### Curitiba doesn't have sufficient historic data"
   ]
  },
  {
   "cell_type": "code",
   "execution_count": 76,
   "metadata": {},
   "outputs": [],
   "source": [
    "first_curitiba_year = curitiba_data_frame.iloc[0].year\n",
    "short_global_data_frame = global_data_frame[global_data_frame.year >= first_curitiba_year]\n",
    "short_global_moving_average = short_global_data_frame[\"avg_temp\"].rolling(7).mean()"
   ]
  },
  {
   "cell_type": "code",
   "execution_count": 77,
   "metadata": {},
   "outputs": [
    {
     "data": {
      "image/png": "[encoded data removed]",
      "text/plain": [
       "<Figure size 432x288 with 1 Axes>"
      ]
     },
     "metadata": {
      "needs_background": "light"
     },
     "output_type": "display_data"
    },
    {
     "data": {
      "text/plain": [
       "<Figure size 1440x1280 with 0 Axes>"
      ]
     },
     "metadata": {},
     "output_type": "display_data"
    }
   ],
   "source": [
    "plt.plot(short_global_data_frame[\"year\"], short_global_moving_average, label=\"global\", color=\"#2E4F74\", antialiased=True)\n",
    "plt.plot(curitiba_data_frame[\"year\"], curitiba_moving_average, label=\"curitiba\", color=\"#3FAEAC\", antialiased=True)\n",
    "\n",
    "plt.xlabel(\"years\")\n",
    "plt.ylabel(\"temperature (°C)\")\n",
    "\n",
    "plt.title(\"curitiba's x global trend temperatures\")\n",
    "\n",
    "plt.legend()\n",
    "plt.grid(linestyle='-.', antialiased=True, alpha=0.5)\n",
    "\n",
    "plt.figure(figsize=(18, 16), dpi= 80, facecolor='w', edgecolor='k')\n",
    "\n",
    "plt.show()"
   ]
  },
  {
   "cell_type": "code",
   "execution_count": 78,
   "metadata": {},
   "outputs": [
    {
     "data": {
      "image/png": "[encoded data removed]",
      "text/plain": [
       "<Figure size 432x288 with 1 Axes>"
      ]
     },
     "metadata": {
      "needs_background": "light"
     },
     "output_type": "display_data"
    },
    {
     "data": {
      "text/plain": [
       "<Figure size 1440x1280 with 0 Axes>"
      ]
     },
     "metadata": {},
     "output_type": "display_data"
    }
   ],
   "source": [
    "plt.plot(curitiba_data_frame[\"year\"], curitiba_moving_average, label=\"curitiba\", color=\"#3FAEAC\", antialiased=True)\n",
    "\n",
    "plt.xlabel(\"years\")\n",
    "plt.ylabel(\"temperature (°C)\")\n",
    "\n",
    "plt.title(\"curitiba trend temperatures\")\n",
    "\n",
    "plt.legend()\n",
    "plt.grid(linestyle='-.', antialiased=True, alpha=0.5)\n",
    "\n",
    "plt.figure(figsize=(18, 16), dpi= 80, facecolor='w', edgecolor='k')\n",
    "\n",
    "plt.show()"
   ]
  },
  {
   "cell_type": "code",
   "execution_count": 79,
   "metadata": {},
   "outputs": [
    {
     "data": {
      "image/png": "[encoded data removed]",
      "text/plain": [
       "<Figure size 432x288 with 1 Axes>"
      ]
     },
     "metadata": {
      "needs_background": "light"
     },
     "output_type": "display_data"
    },
    {
     "data": {
      "text/plain": [
       "<Figure size 1440x1280 with 0 Axes>"
      ]
     },
     "metadata": {},
     "output_type": "display_data"
    }
   ],
   "source": [
    "plt.plot(global_data_frame[\"year\"], global_moving_average, label=\"global\", color=\"#2E4F74\", antialiased=True)\n",
    "\n",
    "plt.xlabel(\"years\")\n",
    "plt.ylabel(\"temperature (°C)\")\n",
    "\n",
    "plt.title(\"global trend temperatures\")\n",
    "\n",
    "plt.legend()\n",
    "plt.grid(linestyle='-.', antialiased=True, alpha=0.5)\n",
    "\n",
    "plt.figure(figsize=(18, 16), dpi= 80, facecolor='w', edgecolor='k')\n",
    "\n",
    "plt.show()"
   ]
  },
  {
   "cell_type": "code",
   "execution_count": null,
   "metadata": {},
   "outputs": [],
   "source": []
  }
 ],
 "metadata": {
  "kernelspec": {
   "display_name": "Python 3",
   "language": "python",
   "name": "python3"
  },
  "language_info": {
   "codemirror_mode": {
    "name": "ipython",
    "version": 3
   },
   "file_extension": ".py",
   "mimetype": "text/x-python",
   "name": "python",
   "nbconvert_exporter": "python",
   "pygments_lexer": "ipython3",
   "version": "3.7.1"
  }
 },
 "nbformat": 4,
 "nbformat_minor": 2
}
